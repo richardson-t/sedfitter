{
 "cells": [
  {
   "cell_type": "markdown",
   "id": "4e6cdfec-634b-4c8e-85b0-b75ba62d6020",
   "metadata": {},
   "source": [
    "# Example: SED Fitting with sedfitter (using the Richardson+ (2024) YSO models)\n",
    "`sedfitter` is a Python port of the SED fitting tool described in [Robitaille+ (2007)](). It is also the primary interface for the [Robitaille+ (2006)](https://ui.adsabs.harvard.edu/abs/2006ApJS..167..256R/exportcitation) and [Robitaille (2017)](https://ui.adsabs.harvard.edu/abs/2017A%26A...600A..11R/abstract) (R17) sets of radiative transfer YSO models. A [new version](https://zenodo.org/records/10522816) of the latter set was recently released alongside [Richardson+ (2024)](https://ui.adsabs.harvard.edu/abs/2024ApJ...961..188R/abstract) (R24). This version expands the available information, but use of these models will likely require slight modifications to a `sedfitter`-based workflow in order to maintain functionality.\n",
    "\n",
    "The purpose of this notebook is to synthesize aspects of the [sedfitter documentation](https://sedfitter.readthedocs.io/en/stable/) into a single demonstration of the workflow and basic functionality of the tool, as well as to provide additional information on how to work with the R24 version of the 2017 YSO models. It is current as of PR #(number).\n",
    "\n",
    "(Disclaimer: No guarantees are made about the accuracy of the results, and users are responsible for ensuring that the results are reasonable and that they understand all the limitations inherent to SED fitting.)"
   ]
  },
  {
   "cell_type": "code",
   "execution_count": 1,
   "id": "191a42e9-5916-47fa-9bd4-19192d9e71e0",
   "metadata": {},
   "outputs": [],
   "source": [
    "import os\n",
    "import glob\n",
    "\n",
    "import numpy as np\n",
    "from astropy import units as u\n",
    "\n",
    "from sedfitter import (fit, plot, plot_params_1d, plot_params_2d,\n",
    "                       write_parameters, write_parameter_ranges)\n",
    "from sedfitter.extinction import Extinction"
   ]
  },
  {
   "cell_type": "code",
   "execution_count": 2,
   "id": "4093af95-9398-409f-9c2b-0d7fbb29cd79",
   "metadata": {},
   "outputs": [],
   "source": [
    "%rm -rf r24_example\n",
    "%mkdir r24_example"
   ]
  },
  {
   "cell_type": "markdown",
   "id": "eadbf959-2261-4c4a-9224-4fa158522e38",
   "metadata": {},
   "source": [
    "## Setup\n",
    "In order to fit to a set of models, the fitter needs to be provided with their directory (i.e. the folder which contains the model parameters and SEDs). The R24 model information are contained within directories named for several \"model geometries\", which are subsets of models with common features. (The downloadable model files unzip to `r+24_models/{geometry}`.) Table 2 of R17 contains a full accounting of the names and significances of these geometries. For the purposes of this notebook, we pick `spubhmi`, which is the most populous geometry. `spubhmi` models all have disks, rotationally flattened envelopes with internal holes, and bipolar cavities."
   ]
  },
  {
   "cell_type": "code",
   "execution_count": 3,
   "id": "f7a0fe80-eb6d-45bc-b3fb-fa0ce92a5a8d",
   "metadata": {},
   "outputs": [],
   "source": [
    "# Define path to models\n",
    "r24_modeldir = '/blue/adamginsburg/richardson.t/research/flux/r+24_models-1.2'\n",
    "geometry = 'spubhmi'"
   ]
  },
  {
   "cell_type": "markdown",
   "id": "1fe589c0-992a-49c8-a3b1-4edb250e4b42",
   "metadata": {},
   "source": [
    "The fitter must also be provided with an extinction law in order to accommodate extinction from material along the line of sight. The extinction law should be in opacity units ($cm^2 / g$ or equivalent). Handling of extinction is unchanged from the time of the R17 release; the `sedfitter` documentation contains more information."
   ]
  },
  {
   "cell_type": "code",
   "execution_count": 4,
   "id": "a8c9345f-1d6d-4b70-afb5-73cc13be569b",
   "metadata": {},
   "outputs": [],
   "source": [
    "# Read in extinction law. We read in columns 1 (the wavelength in microns) and\n",
    "# 4 (the opacity in cm^2/g)\n",
    "extinction = Extinction.from_file('kmh94.par', columns=[0, 3],\n",
    "                                  wav_unit=u.micron, chi_unit=u.cm**2 / u.g)"
   ]
  },
  {
   "cell_type": "markdown",
   "id": "a43846ef-484c-4eec-b93e-9232b95214c2",
   "metadata": {},
   "source": [
    "Both the R17 and R24 sets of models have convolved their SEDs with the response profiles of several current or formerly active instruments often used to observe YSOs. One of the main differences between the 2017 and 2024 releases of the YSO models is in how their filters are named; the 2017 release named them solely by the filter itself, while the 2024 version incorporates [astroquery](https://astroquery.readthedocs.io/en/latest/) into its convolution procedure to retrieve filter profiles from the [SVO FPS](https://svo2.cab.inta-csic.es/theory/fps/) (Rodrigo+ 2012/Rodrigo & Solano 2020). Consequently, when fitting using the 2024 models, the convolved fluxes must be invoked using the name as formatted by the SVO FPS; generally, this naming convention is `{facility}/{instrument}.{filter}`. In this data, we have access to 2MASS's J/H/K filters and the Spitzer IRAC's I1-I4.\n",
    "\n",
    "Convolution in `sedfitter` is changed in this PR to use `numpy.nansum` instead of `numpy.sum`. This prevents losing information when convolving with SEDs which have had parts removed due to S/N post-processing (see Sec. 4.2.4 of R17); previously, filters which had defined in-band SEDs would have undefined fluxes due to `nan` values elsewhere in the SED, as convolution is performed over the entire wavelength range."
   ]
  },
  {
   "cell_type": "code",
   "execution_count": 5,
   "id": "07bb8e1f-946a-4054-9b6b-1dc1e49058f7",
   "metadata": {},
   "outputs": [],
   "source": [
    "# Define filters\n",
    "filters = ['2MASS/2MASS.J', '2MASS/2MASS.H', '2MASS/2MASS.Ks', \n",
    "           'Spitzer/IRAC.I1', 'Spitzer/IRAC.I2', \n",
    "           'Spitzer/IRAC.I3', 'Spitzer/IRAC.I4']"
   ]
  },
  {
   "cell_type": "markdown",
   "id": "56aff27d-c324-4af7-b398-0d4642af3b38",
   "metadata": {},
   "source": [
    "The fitter must also be provided with the radius of each aperture in which the data is taken in order to fit to the correct data. Handling of providing apertures to the fitter is unchanged from the time of the R17 release; the `sedfitter` documentation contains more information."
   ]
  },
  {
   "cell_type": "code",
   "execution_count": 6,
   "id": "c281ba8b-4733-4038-bf4f-bccb42b3ac57",
   "metadata": {},
   "outputs": [],
   "source": [
    "# Define apertures\n",
    "apertures = [3., 3., 3., 3., 3., 3., 3.] * u.arcsec"
   ]
  },
  {
   "cell_type": "markdown",
   "id": "94472a74-4392-45ef-80ca-08516e2bc3e9",
   "metadata": {},
   "source": [
    "## Fitting\n",
    "Now that we have set up the data and specified the models to fit to it, we can perform the fit:"
   ]
  },
  {
   "cell_type": "code",
   "execution_count": 7,
   "id": "a2205d53-16b0-49bf-a665-6bb28a28627b",
   "metadata": {
    "scrolled": true
   },
   "outputs": [
    {
     "name": "stdout",
     "output_type": "stream",
     "text": [
      " ------------------------------------------------------------\n",
      "  => Model parameters\n",
      " ------------------------------------------------------------\n",
      "\n",
      "   Models              :  spubhmi\n",
      "   Log[d] stepping     :  0.02\n",
      "   Number of distances :  17\n",
      "\n",
      " ------------------------------------------------------------\n",
      "  => Reading in convolved fluxes\n",
      " ------------------------------------------------------------\n",
      "\n",
      "Data shape=(720000, 17, 7).  use_memmap=True\n",
      "   Reading /blue/adamginsburg/richardson.t/research/flux/r+24_models-1.2/spubhmi/convolved/2MASS/2MASS.J.fits\n",
      "   Reading /blue/adamginsburg/richardson.t/research/flux/r+24_models-1.2/spubhmi/convolved/2MASS/2MASS.H.fits\n",
      "   Reading /blue/adamginsburg/richardson.t/research/flux/r+24_models-1.2/spubhmi/convolved/2MASS/2MASS.Ks.fits\n",
      "   Reading /blue/adamginsburg/richardson.t/research/flux/r+24_models-1.2/spubhmi/convolved/Spitzer/IRAC.I1.fits\n",
      "   Reading /blue/adamginsburg/richardson.t/research/flux/r+24_models-1.2/spubhmi/convolved/Spitzer/IRAC.I2.fits\n",
      "   Reading /blue/adamginsburg/richardson.t/research/flux/r+24_models-1.2/spubhmi/convolved/Spitzer/IRAC.I3.fits\n",
      "   Reading /blue/adamginsburg/richardson.t/research/flux/r+24_models-1.2/spubhmi/convolved/Spitzer/IRAC.I4.fits\n",
      " ------------------------------------------------------------\n",
      "  => Fitting parameters\n",
      " ------------------------------------------------------------\n",
      "\n",
      "   Minimum A_V      :     0.000 mag\n",
      "   Maximum A_V      :    40.000 mag\n",
      "   Minimum distance :     1.000 kpc\n",
      "   Maximum distance :     2.000 kpc\n",
      "\n",
      " ------------------------------------------------------------\n",
      "  => Output parameters\n",
      " ------------------------------------------------------------\n",
      "\n",
      "   File   : r24_example/output.fitinfo\n",
      "   Format : F\n",
      "   Number : 6\n",
      "\n",
      " ------------------------------------------------------------\n",
      "  => Data format parameters\n",
      " ------------------------------------------------------------\n",
      "\n",
      "   Number of filters :  7\n",
      "\n",
      "\n",
      "     Filter    Wavelength    Aperture (\")   \n",
      "    ----------------------------------------\n",
      "       2MASS/2MASS.J        1.24       3.00        \n",
      "       2MASS/2MASS.H        1.65       3.00        \n",
      "       2MASS/2MASS.Ks        2.19       3.00        \n",
      "       Spitzer/IRAC.I1        3.53       3.00        \n",
      "       Spitzer/IRAC.I2        4.47       3.00        \n",
      "       Spitzer/IRAC.I3        5.68       3.00        \n",
      "       Spitzer/IRAC.I4        7.75       3.00        \n",
      "\n",
      "   # Sources    CPU time (sec)    Sources/sec  \n",
      " ----------------------------------------------\n",
      "          1              3.8           0.26\n",
      "          2              7.8           0.26\n",
      "          3             11.8           0.25\n",
      "          4             15.6           0.26\n",
      "          5             19.5           0.26\n",
      "          6             23.3           0.26\n",
      "          7             27.3           0.26\n",
      "          8             31.1           0.26\n",
      "          9             35.0           0.26\n",
      "         10             38.8           0.26\n",
      "         11             38.8           0.28\n"
     ]
    }
   ],
   "source": [
    "# Run the fitting\n",
    "fit('data_glimpse', filters, apertures, f'{r24_modeldir}/{geometry}',\n",
    "    'r24_example/output.fitinfo',\n",
    "    extinction_law=extinction,\n",
    "    distance_range=[1., 2.] * u.kpc,\n",
    "    av_range=[0., 40.])"
   ]
  },
  {
   "cell_type": "markdown",
   "id": "1f69c3d6-8d48-4994-90f8-aad7eab64ddd",
   "metadata": {},
   "source": [
    "After fitting, you will have a set of `FitInfo` objects that contain the results of fitting every model. Oftentimes when working with these, it is desirable to limit the number of models being considered. Model limitation in `sedfitter` is accomplished through the `select_format` argument, which is a keyword argument in many functions (see documentation). `sedfitter` provides a number of ways to downselect fitted models. A general overview of the various selection formats is provided here and in the documentation.\n",
    "\n",
    "* `('A', value)`: select all models (`value` is ignored).\n",
    "* `('N', value)`: select a fixed number of fits given by `value`.\n",
    "* `('C', value)`: select all models with a $\\chi^2$ below a threshold given by `value`.\n",
    "* `('D', value)`: select all models with a $\\chi^2-\\chi^2_{\\rm best}$ value below a threshold given by `value`.\n",
    "* `('E', value)`: select all models with a $\\chi^2$ per datapoint below a threshold given by `value`.\n",
    "* `('F', value)`: select all models with a $\\chi^2-\\chi^2_{\\rm best}$ value per datapoint below a threshold given by `value`.\n",
    "\n",
    "By default, functions in `sedfitter` will work with the best-fitting model (i.e. `('N', 1)`).\n",
    "\n",
    "For this example, we will limit consideration to models which exhibit a $\\chi^2-\\chi^2_{\\rm best}$-per-data-point $<$ 3."
   ]
  },
  {
   "cell_type": "code",
   "execution_count": 8,
   "id": "6d17fef1-ad3e-4d50-b13f-b13d7836c317",
   "metadata": {},
   "outputs": [],
   "source": [
    "select_format = ('F', 3)"
   ]
  },
  {
   "cell_type": "markdown",
   "id": "a9b8ab9d-cf73-481c-b618-bda7f28e374b",
   "metadata": {},
   "source": [
    "## Working with the fit results\n",
    "After performing the fit and selecting the set of models to work with, we can visualize the results of the fitting in a number of ways, which we demonstrate here. The documentation contains additional information on the keyword arguments."
   ]
  },
  {
   "cell_type": "markdown",
   "id": "90eded7f-c97d-4cf1-90cc-6edd6b0dbd68",
   "metadata": {},
   "source": [
    "### Plotting SEDs\n",
    "Firstly, we can plot the data and our downselected set of SEDs together:"
   ]
  },
  {
   "cell_type": "code",
   "execution_count": 9,
   "id": "2312a23f-1c11-4407-900c-521face5a8a0",
   "metadata": {},
   "outputs": [],
   "source": [
    "# Make SED plots\n",
    "plot('r24_example/output.fitinfo', 'r24_example/plots_seds', plot_max=100, select_format=select_format)"
   ]
  },
  {
   "cell_type": "markdown",
   "id": "26343ac5-98a0-4fa5-8d6a-a9ac1a0e6981",
   "metadata": {},
   "source": [
    "![sed plot](example_images/sed.png)"
   ]
  },
  {
   "cell_type": "markdown",
   "id": "03928d2f-10d5-49e0-b160-9a3e58ac0981",
   "metadata": {},
   "source": [
    "### Plotting parameters\n",
    "We can also plot histograms which compare the parameters of the set of SEDs we have chosen with `select_format` to the parameters of all models in the set we fit to. This particular histogram shows the luminosity of the central sources of the models, which is made explicit in R24."
   ]
  },
  {
   "cell_type": "code",
   "execution_count": 10,
   "id": "35929385-7ce9-4309-9bf2-53ca44d920c3",
   "metadata": {},
   "outputs": [],
   "source": [
    "# Make histograms of the source luminosity\n",
    "plot_params_1d('r24_example/output.fitinfo', 'Source Luminosity', \n",
    "               output_dir='r24_example/plots_lum',\n",
    "               log_x=True, select_format=select_format)"
   ]
  },
  {
   "cell_type": "markdown",
   "id": "6eb959e3-6dae-4f92-8393-1a05d4962835",
   "metadata": {},
   "source": [
    "![lum histogram](example_images/lum.png)"
   ]
  },
  {
   "cell_type": "markdown",
   "id": "43a354d1-d1ec-4731-85bb-40ac9f6a2eb3",
   "metadata": {},
   "source": [
    "We can repeat this for another new parameter: the \"sphere masses\" of the models. These track the amount of dust and gas mass contained within spherical regions around the central source. The sphere mass of models is one of several \"array parameters\" new to the R24 set, which require some additional handling and explanation. SEDs in R24 are defined in a series of apertures with different physical radii. These radii are 20 evenly log-spaced values between $10^2-10^6$ AU. The array parameters are quantities which, for one reason or another, vary with aperture. \n",
    "\n",
    "Consequently, functions in sedfitter which work with the table parameters now include an optional `aperture` keyword argument which picks all of the values in these array parameters consistent with a particular aperture. `aperture` accepts integer values; any integer which indexes a value within an array-like object of length 20 will work. In the following plot, we show sphere mass in the smallest available aperture:"
   ]
  },
  {
   "cell_type": "code",
   "execution_count": 11,
   "id": "d2db3374-9a92-442a-a8f4-6be9945c9664",
   "metadata": {},
   "outputs": [],
   "source": [
    "# Make histograms of the sphere mass in the smallest aperture\n",
    "plot_params_1d('r24_example/output.fitinfo', 'Sphere Masses',aperture=0,\n",
    "               output_dir='r24_example/plots_sphmass_smallap',\n",
    "               log_x=True, select_format=select_format)"
   ]
  },
  {
   "cell_type": "markdown",
   "id": "5841ef19-71e6-40a6-b204-ea6938a9cf83",
   "metadata": {},
   "source": [
    "![mass histogram in smallest aperture](example_images/mass_small.png)"
   ]
  },
  {
   "cell_type": "markdown",
   "id": "3f45412d-313f-4ebb-b507-097444099b32",
   "metadata": {},
   "source": [
    "That aperture has a radius of 100 AU, which is not really representative of the data. To instead find the appropriate aperture to use, we bring in some of the information provided to the fitter earlier. In this case, since we are allowing the distance to vary between 1-2 kpc, we will say that the source is at a distance of ~1.5 kpc for simplicity. Our 3-arcsecond aperture therefore corresponds to a physical radius of 4500 AU; we find the index of the aperture which is closest to that, which we will use as input to the `aperture` argument."
   ]
  },
  {
   "cell_type": "code",
   "execution_count": 12,
   "id": "e3551c35-0355-4f8e-b032-3c9e0d729ccf",
   "metadata": {},
   "outputs": [],
   "source": [
    "all_apertures = np.logspace(2,6,20) * u.AU\n",
    "mid_distance_ap = 4500 * u.AU\n",
    "ap_num = np.argmin(abs(mid_distance_ap - all_apertures))"
   ]
  },
  {
   "cell_type": "markdown",
   "id": "1b015afb-8213-412b-a5d0-042d386da2b8",
   "metadata": {},
   "source": [
    "Replotting the sphere mass histogram with this change:"
   ]
  },
  {
   "cell_type": "code",
   "execution_count": 13,
   "id": "28977eae-5c4f-4d34-94a0-7ddb6caad296",
   "metadata": {},
   "outputs": [],
   "source": [
    "# Make histograms of the sphere mass in the smallest aperture\n",
    "plot_params_1d('r24_example/output.fitinfo', 'Sphere Masses',aperture=ap_num,\n",
    "               output_dir='r24_example/plots_sphmass_fitap',\n",
    "               log_x=True, select_format=select_format)"
   ]
  },
  {
   "cell_type": "markdown",
   "id": "3f5ec5c0-64fd-4107-a2aa-2ead154c1a53",
   "metadata": {},
   "source": [
    "![mass histogram in best aperture](example_images/mass_fit.png)"
   ]
  },
  {
   "cell_type": "markdown",
   "id": "88b98b10-7c95-48a8-855d-dfd51ab712a7",
   "metadata": {},
   "source": [
    "We can also plot 2D histograms, where we compare the distributions of two parameters at once. In this case, we will plot the source luminosities and sphere masses together (taking sphere masses within the \"right\" aperture)."
   ]
  },
  {
   "cell_type": "code",
   "execution_count": 14,
   "id": "82ccb8e3-6588-475e-b415-0f3320b2b2fb",
   "metadata": {},
   "outputs": [],
   "source": [
    "# Make 2-d plots of the source luminosity vs circumstellar mass, \n",
    "# in an aperture consistent with the size used for fitting\n",
    "plot_params_2d('r24_example/output.fitinfo', \n",
    "               'Source Luminosity', 'Sphere Masses',\n",
    "               output_dir='r24_example/plots_lum_sphmass_fitap',\n",
    "               log_x=True, log_y=True, select_format=select_format,\n",
    "               aperture=ap_num)"
   ]
  },
  {
   "cell_type": "markdown",
   "id": "144e1322-c5fa-47bf-a070-0faa5b530745",
   "metadata": {},
   "source": [
    "![2D luminosity/mass histogram](example_images/lum_mass.png)"
   ]
  },
  {
   "cell_type": "markdown",
   "id": "5b64920a-2024-46ab-a34c-e996250a0c13",
   "metadata": {},
   "source": [
    "### Creating parameter tables\n",
    "Finally, we can write information about the model parameters in our downselected set out to files. This information can either be every parameter value for each model in the set, or it can be the range of values in each parameter (and best-fit parameter values) over the set. Array parameters are handled as above, where a single value from the array is written out based on the provided aperture index."
   ]
  },
  {
   "cell_type": "code",
   "execution_count": 15,
   "id": "5ee534ad-19ef-4d88-b4c0-55012bfdb3d9",
   "metadata": {},
   "outputs": [
    {
     "name": "stderr",
     "output_type": "stream",
     "text": [
      "/blue/adamginsburg/richardson.t/dev/sedfitter/sedfitter/write_parameters.py:102: UserWarning: Warning: converting a masked element to nan.\n",
      "  fout.write('%10.3e ' % (vals[aperture]))\n",
      "/blue/adamginsburg/richardson.t/dev/sedfitter/sedfitter/write_parameters.py:104: UserWarning: Warning: converting a masked element to nan.\n",
      "  fout.write('%10.3e ' % (vals[0]))\n",
      "/blue/adamginsburg/richardson.t/dev/sedfitter/sedfitter/write_parameter_ranges.py:147: UserWarning: Warning: converting a masked element to nan.\n",
      "  fout.write('%10.3e %10.3e %10.3e ' % (np.nanmin(col), col[0], np.nanmax(col)))\n"
     ]
    }
   ],
   "source": [
    "# Write out all models with a delta chi^2-chi_best^2 per datapoint < 3\n",
    "write_parameters('r24_example/output.fitinfo', 'r24_example/parameters.txt',\n",
    "                 select_format=select_format,\n",
    "                 aperture=ap_num)\n",
    "\n",
    "# Write out the min/max ranges corresponding to the above file\n",
    "write_parameter_ranges('r24_example/output.fitinfo', 'r24_example/parameter_ranges.txt',\n",
    "                       select_format=select_format,\n",
    "                       aperture=ap_num)"
   ]
  }
 ],
 "metadata": {
  "kernelspec": {
   "display_name": "Python 3 (ipykernel)",
   "language": "python",
   "name": "python3"
  },
  "language_info": {
   "codemirror_mode": {
    "name": "ipython",
    "version": 3
   },
   "file_extension": ".py",
   "mimetype": "text/x-python",
   "name": "python",
   "nbconvert_exporter": "python",
   "pygments_lexer": "ipython3",
   "version": "3.13.2"
  }
 },
 "nbformat": 4,
 "nbformat_minor": 5
}
