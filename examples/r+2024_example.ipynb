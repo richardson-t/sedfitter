{
 "cells": [
  {
   "cell_type": "markdown",
   "id": "4e6cdfec-634b-4c8e-85b0-b75ba62d6020",
   "metadata": {},
   "source": [
    "sedfitter is a Python port of the SED fitting tool described in [Robitaille+ (2007)](). It is also the primary interface for the [Robitaille+ (2006)](https://ui.adsabs.harvard.edu/abs/2006ApJS..167..256R/exportcitation) and [Robitaille (2017)](https://ui.adsabs.harvard.edu/abs/2017A%26A...600A..11R/abstract) sets of radiative transfer YSO models. A [new version](https://zenodo.org/records/10522816) of the latter set was recently released alongside [Richardson+ (2024)](https://ui.adsabs.harvard.edu/abs/2024ApJ...961..188R/abstract) (R24). This version expands the available information, but useof these models will likely require slight modifications to a sedfitter-based workflow in order to maintain functionality.\n",
    "\n",
    "The purpose of this notebook is to synthesize aspects of the [sedfitter documentation](https://sedfitter.readthedocs.io/en/stable/) into a single demonstration of the workflow and basic functionality of the tool, as well as to provide additional information on how to work with the R24 version of the 2017 YSO models. It is current as of PR #(number)."
   ]
  },
  {
   "cell_type": "code",
   "execution_count": 1,
   "id": "191a42e9-5916-47fa-9bd4-19192d9e71e0",
   "metadata": {},
   "outputs": [],
   "source": [
    "import os\n",
    "import glob\n",
    "\n",
    "import numpy as np\n",
    "from astropy import units as u\n",
    "\n",
    "from sedfitter import (fit, plot, plot_params_1d, plot_params_2d,\n",
    "                       write_parameters, write_parameter_ranges)\n",
    "from sedfitter.extinction import Extinction"
   ]
  },
  {
   "cell_type": "code",
   "execution_count": 2,
   "id": "4093af95-9398-409f-9c2b-0d7fbb29cd79",
   "metadata": {},
   "outputs": [],
   "source": [
    "%rm -rf r24_example\n",
    "%mkdir r24_example"
   ]
  },
  {
   "cell_type": "markdown",
   "id": "eadbf959-2261-4c4a-9224-4fa158522e38",
   "metadata": {},
   "source": [
    "which model directory to point to?\n",
    "\n",
    "In R24, the models are contained within directories named for several \"model geometries\", which are subsets of models with common features. Table 2 of R17 contains a full accounting of the names and significances of these geometries. For the purposes of this notebook, we pick \"spubhmi\", which is the most populous geometry. \"spubhmi\" models all have disks, rotationally flattened envelopes, and bipolar cavities"
   ]
  },
  {
   "cell_type": "code",
   "execution_count": 3,
   "id": "f7a0fe80-eb6d-45bc-b3fb-fa0ce92a5a8d",
   "metadata": {},
   "outputs": [],
   "source": [
    "# Define path to models\n",
    "r24_modeldir = '/blue/adamginsburg/richardson.t/research/flux/r+24_models-1.2'\n",
    "geometry = 'spubhmi'"
   ]
  },
  {
   "cell_type": "markdown",
   "id": "079c7f10-220a-4ede-bdbb-f0bc4931d5a8",
   "metadata": {},
   "source": [
    "summarize extinction"
   ]
  },
  {
   "cell_type": "code",
   "execution_count": 4,
   "id": "a8c9345f-1d6d-4b70-afb5-73cc13be569b",
   "metadata": {},
   "outputs": [],
   "source": [
    "# Read in extinction law. We read in columns 1 (the wavelength in microns) and\n",
    "# 4 (the opacity in cm^2/g)\n",
    "extinction = Extinction.from_file('kmh94.par', columns=[0, 3],\n",
    "                                  wav_unit=u.micron, chi_unit=u.cm**2 / u.g)"
   ]
  },
  {
   "cell_type": "markdown",
   "id": "82f3e83b-8891-4a74-8dac-7ca5c87fbdee",
   "metadata": {},
   "source": [
    "Both the R17 and R24 sets of models have convolved their SEDs with the response profiles of several current or formerly active instruments often used to observe YSOs. One of the main differences between the 2017 and 2024 releases of the YSO models is in how their filters are named; the 2017 release named them solely by the filter itself, while the 2024 version incorporates [astroquery](https://astroquery.readthedocs.io/en/latest/) into its convolution procedure to retrieve filter profiles from the [SVO FPS](https://svo2.cab.inta-csic.es/theory/fps/). Consequently, when fitting using the 2024 models, the convolved fluxes must be invoked using the name as formatted by the SVO FPS; generally, this naming convention is {instrument}/{camera}.{filter}. In this data, we have access to 2MASS's J/H/K filters and the Spitzer IRAC's I1-I4."
   ]
  },
  {
   "cell_type": "code",
   "execution_count": 5,
   "id": "07bb8e1f-946a-4054-9b6b-1dc1e49058f7",
   "metadata": {},
   "outputs": [],
   "source": [
    "# Define filters\n",
    "filters = ['2MASS/2MASS.J', '2MASS/2MASS.H', '2MASS/2MASS.Ks', \n",
    "           'Spitzer/IRAC.I1', 'Spitzer/IRAC.I2', \n",
    "           'Spitzer/IRAC.I3', 'Spitzer/IRAC.I4']"
   ]
  },
  {
   "cell_type": "markdown",
   "id": "56aff27d-c324-4af7-b398-0d4642af3b38",
   "metadata": {},
   "source": [
    "describe the apertures"
   ]
  },
  {
   "cell_type": "code",
   "execution_count": 6,
   "id": "c281ba8b-4733-4038-bf4f-bccb42b3ac57",
   "metadata": {},
   "outputs": [],
   "source": [
    "# Define apertures\n",
    "apertures = [3., 3., 3., 3., 3., 3., 3.] * u.arcsec"
   ]
  },
  {
   "cell_type": "markdown",
   "id": "758f8b70-465b-4e51-a277-2e7efaa42441",
   "metadata": {},
   "source": [
    "anything extra for fitting? describe the data?"
   ]
  },
  {
   "cell_type": "code",
   "execution_count": 7,
   "id": "a2205d53-16b0-49bf-a665-6bb28a28627b",
   "metadata": {
    "scrolled": true
   },
   "outputs": [
    {
     "name": "stdout",
     "output_type": "stream",
     "text": [
      " ------------------------------------------------------------\n",
      "  => Model parameters\n",
      " ------------------------------------------------------------\n",
      "\n",
      "   Models              :  spubhmi\n",
      "   Log[d] stepping     :  0.02\n",
      "   Number of distances :  17\n",
      "\n",
      " ------------------------------------------------------------\n",
      "  => Reading in convolved fluxes\n",
      " ------------------------------------------------------------\n",
      "\n",
      "Data shape=(720000, 17, 7).  use_memmap=True\n",
      "   Reading /blue/adamginsburg/richardson.t/research/flux/r+24_models-1.2/spubhmi/convolved/2MASS/2MASS.J.fits\n",
      "   Reading /blue/adamginsburg/richardson.t/research/flux/r+24_models-1.2/spubhmi/convolved/2MASS/2MASS.H.fits\n",
      "   Reading /blue/adamginsburg/richardson.t/research/flux/r+24_models-1.2/spubhmi/convolved/2MASS/2MASS.Ks.fits\n",
      "   Reading /blue/adamginsburg/richardson.t/research/flux/r+24_models-1.2/spubhmi/convolved/Spitzer/IRAC.I1.fits\n",
      "   Reading /blue/adamginsburg/richardson.t/research/flux/r+24_models-1.2/spubhmi/convolved/Spitzer/IRAC.I2.fits\n",
      "   Reading /blue/adamginsburg/richardson.t/research/flux/r+24_models-1.2/spubhmi/convolved/Spitzer/IRAC.I3.fits\n",
      "   Reading /blue/adamginsburg/richardson.t/research/flux/r+24_models-1.2/spubhmi/convolved/Spitzer/IRAC.I4.fits\n",
      " ------------------------------------------------------------\n",
      "  => Fitting parameters\n",
      " ------------------------------------------------------------\n",
      "\n",
      "   Minimum A_V      :     0.000 mag\n",
      "   Maximum A_V      :    40.000 mag\n",
      "   Minimum distance :     1.000 kpc\n",
      "   Maximum distance :     2.000 kpc\n",
      "\n",
      " ------------------------------------------------------------\n",
      "  => Output parameters\n",
      " ------------------------------------------------------------\n",
      "\n",
      "   File   : r24_example/output.fitinfo\n",
      "   Format : F\n",
      "   Number : 6\n",
      "\n",
      " ------------------------------------------------------------\n",
      "  => Data format parameters\n",
      " ------------------------------------------------------------\n",
      "\n",
      "   Number of filters :  7\n",
      "\n",
      "\n",
      "     Filter    Wavelength    Aperture (\")   \n",
      "    ----------------------------------------\n",
      "       2MASS/2MASS.J        1.24       3.00        \n",
      "       2MASS/2MASS.H        1.65       3.00        \n",
      "       2MASS/2MASS.Ks        2.19       3.00        \n",
      "       Spitzer/IRAC.I1        3.53       3.00        \n",
      "       Spitzer/IRAC.I2        4.47       3.00        \n",
      "       Spitzer/IRAC.I3        5.68       3.00        \n",
      "       Spitzer/IRAC.I4        7.75       3.00        \n",
      "\n",
      "   # Sources    CPU time (sec)    Sources/sec  \n",
      " ----------------------------------------------\n",
      "          1              3.9           0.26\n",
      "          2              7.8           0.25\n",
      "          3             11.8           0.25\n",
      "          4             15.5           0.26\n",
      "          5             19.1           0.26\n",
      "          6             23.0           0.26\n",
      "          7             26.9           0.26\n",
      "          8             30.8           0.26\n",
      "          9             34.7           0.26\n",
      "         10             38.5           0.26\n",
      "         11             38.5           0.29\n"
     ]
    }
   ],
   "source": [
    "# Run the fitting\n",
    "fit('data_glimpse', filters, apertures, f'{r24_modeldir}/{geometry}',\n",
    "    'r24_example/output.fitinfo',\n",
    "    extinction_law=extinction,\n",
    "    distance_range=[1., 2.] * u.kpc,\n",
    "    av_range=[0., 40.])"
   ]
  },
  {
   "cell_type": "markdown",
   "id": "1f69c3d6-8d48-4994-90f8-aad7eab64ddd",
   "metadata": {},
   "source": [
    "Now that we have performed the fit, we have a set of FitInfo objects that contain the results. Oftentimes when working with these, it is desirable to limit the number of models being considered. sedfitter provides a number of ways to do this: we provide a general overview here.\n",
    "\n",
    "For this example, we will limit consideration to models which exhibit a $\\chi^2$-per-data-point $<$ 3."
   ]
  },
  {
   "cell_type": "code",
   "execution_count": 8,
   "id": "6d17fef1-ad3e-4d50-b13f-b13d7836c317",
   "metadata": {},
   "outputs": [],
   "source": [
    "select_format = ('F', 3)"
   ]
  },
  {
   "cell_type": "markdown",
   "id": "a9b8ab9d-cf73-481c-b618-bda7f28e374b",
   "metadata": {},
   "source": [
    "plot!"
   ]
  },
  {
   "cell_type": "code",
   "execution_count": 9,
   "id": "2312a23f-1c11-4407-900c-521face5a8a0",
   "metadata": {},
   "outputs": [],
   "source": [
    "# Make SED plots\n",
    "plot('r24_example/output.fitinfo', 'r24_example/plots_seds', plot_max=100, select_format=select_format)"
   ]
  },
  {
   "cell_type": "markdown",
   "id": "03928d2f-10d5-49e0-b160-9a3e58ac0981",
   "metadata": {},
   "source": [
    "plot the parameter histograms!"
   ]
  },
  {
   "cell_type": "code",
   "execution_count": 10,
   "id": "35929385-7ce9-4309-9bf2-53ca44d920c3",
   "metadata": {},
   "outputs": [],
   "source": [
    "# Make histograms of the source luminosity\n",
    "plot_params_1d('r24_example/output.fitinfo', 'Source Luminosity', \n",
    "               output_dir='r24_example/plots_lum',\n",
    "               log_x=True, select_format=select_format)"
   ]
  },
  {
   "cell_type": "markdown",
   "id": "43a354d1-d1ec-4731-85bb-40ac9f6a2eb3",
   "metadata": {},
   "source": [
    "introduce the array parameters/handling"
   ]
  },
  {
   "cell_type": "code",
   "execution_count": 11,
   "id": "d2db3374-9a92-442a-a8f4-6be9945c9664",
   "metadata": {},
   "outputs": [],
   "source": [
    "# Make histograms of the sphere mass in the smallest aperture\n",
    "plot_params_1d('r24_example/output.fitinfo', 'Sphere Masses',aperture=0,\n",
    "               output_dir='r24_example/plots_sphmass_smallap',\n",
    "               log_x=True, select_format=select_format)"
   ]
  },
  {
   "cell_type": "markdown",
   "id": "fb5aa68b-2787-47fd-bd7f-b9bb5ff423fe",
   "metadata": {},
   "source": [
    "describe all the apertures"
   ]
  },
  {
   "cell_type": "code",
   "execution_count": 12,
   "id": "381e3276-b9be-49fa-9465-d23d6965fbe0",
   "metadata": {},
   "outputs": [],
   "source": [
    "all_apertures = np.logspace(2,6,20) * u.AU"
   ]
  },
  {
   "cell_type": "markdown",
   "id": "3f45412d-313f-4ebb-b507-097444099b32",
   "metadata": {},
   "source": [
    "find the \"right\" aperture"
   ]
  },
  {
   "cell_type": "code",
   "execution_count": 13,
   "id": "e3551c35-0355-4f8e-b032-3c9e0d729ccf",
   "metadata": {},
   "outputs": [],
   "source": [
    "mid_distance_ap = 4500 * u.AU\n",
    "ap_num = np.argmin(abs(mid_distance_ap - all_apertures))"
   ]
  },
  {
   "cell_type": "markdown",
   "id": "1b015afb-8213-412b-a5d0-042d386da2b8",
   "metadata": {},
   "source": [
    "replot"
   ]
  },
  {
   "cell_type": "code",
   "execution_count": 14,
   "id": "28977eae-5c4f-4d34-94a0-7ddb6caad296",
   "metadata": {},
   "outputs": [],
   "source": [
    "# Make histograms of the sphere mass in the smallest aperture\n",
    "plot_params_1d('r24_example/output.fitinfo', 'Sphere Masses',aperture=ap_num,\n",
    "               output_dir='r24_example/plots_sphmass_fitap',\n",
    "               log_x=True, select_format=select_format)"
   ]
  },
  {
   "cell_type": "markdown",
   "id": "88b98b10-7c95-48a8-855d-dfd51ab712a7",
   "metadata": {},
   "source": [
    "and you can also do this in 2d"
   ]
  },
  {
   "cell_type": "code",
   "execution_count": 15,
   "id": "82ccb8e3-6588-475e-b415-0f3320b2b2fb",
   "metadata": {},
   "outputs": [],
   "source": [
    "# Make 2-d plots of the source luminosity vs circumstellar mass, \n",
    "# in an aperture consistent with the size used for fitting\n",
    "plot_params_2d('r24_example/output.fitinfo', \n",
    "               'Source Luminosity', 'Sphere Masses',\n",
    "               output_dir='r24_example/plots_lum_sphmass_fitap',\n",
    "               log_x=True, log_y=True, select_format=select_format,\n",
    "               aperture=ap_num)"
   ]
  },
  {
   "cell_type": "markdown",
   "id": "5b64920a-2024-46ab-a34c-e996250a0c13",
   "metadata": {},
   "source": [
    "you can also write the parameters to a file; array parameters work the same "
   ]
  },
  {
   "cell_type": "code",
   "execution_count": null,
   "id": "5ee534ad-19ef-4d88-b4c0-55012bfdb3d9",
   "metadata": {},
   "outputs": [
    {
     "name": "stderr",
     "output_type": "stream",
     "text": [
      "/blue/adamginsburg/richardson.t/dev/sedfitter/sedfitter/write_parameters.py:102: UserWarning: Warning: converting a masked element to nan.\n",
      "  fout.write('%10.3e ' % (vals[aperture]))\n",
      "/blue/adamginsburg/richardson.t/dev/sedfitter/sedfitter/write_parameters.py:104: UserWarning: Warning: converting a masked element to nan.\n",
      "  fout.write('%10.3e ' % (vals[0]))\n"
     ]
    }
   ],
   "source": [
    "# Write out all models with a delta chi^2-chi_best^2 per datapoint < 3\n",
    "write_parameters('r24_example/output.fitinfo', 'r24_example/parameters.txt',\n",
    "                 select_format=select_format,\n",
    "                 aperture=ap_num)"
   ]
  },
  {
   "cell_type": "markdown",
   "id": "11a0477a-d6b4-4689-86b8-edb2381cd58f",
   "metadata": {},
   "source": [
    "finally, you can write out the range of parameters and the best-fit values to a file; array parameters work the same"
   ]
  },
  {
   "cell_type": "code",
   "execution_count": null,
   "id": "848d361e-c788-4b8e-8896-3683764e8d76",
   "metadata": {},
   "outputs": [],
   "source": [
    "# Write out the min/max ranges corresponding to the above file\n",
    "write_parameter_ranges('r24_example/output.fitinfo', 'r24_example/parameter_ranges.txt',\n",
    "                       select_format=select_format,\n",
    "                       aperture=ap_num)"
   ]
  },
  {
   "cell_type": "code",
   "execution_count": null,
   "id": "2e0d9a70-f78c-4fa7-82b9-9e605e878206",
   "metadata": {},
   "outputs": [],
   "source": []
  }
 ],
 "metadata": {
  "kernelspec": {
   "display_name": "Python 3 (ipykernel)",
   "language": "python",
   "name": "python3"
  },
  "language_info": {
   "codemirror_mode": {
    "name": "ipython",
    "version": 3
   },
   "file_extension": ".py",
   "mimetype": "text/x-python",
   "name": "python",
   "nbconvert_exporter": "python",
   "pygments_lexer": "ipython3",
   "version": "3.13.2"
  }
 },
 "nbformat": 4,
 "nbformat_minor": 5
}
